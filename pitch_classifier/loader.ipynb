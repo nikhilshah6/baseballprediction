{
 "cells": [
  {
   "cell_type": "code",
   "execution_count": 26,
   "id": "af32de23-146b-4365-86e6-f191a2808df8",
   "metadata": {},
   "outputs": [],
   "source": [
    "import torch\n",
    "import torch.nn as nn\n",
    "import torch.optim as optim\n",
    "import torch.nn.functional as F\n",
    "import torchvision\n",
    "import torchvision.transforms as transforms\n",
    "import numpy as np\n",
    "import seaborn as sns\n",
    "import matplotlib.pyplot as plt\n",
    "import pandas as pd\n",
    "import torchvision.io as io\n",
    "import os\n",
    "from torch.utils.data import Dataset, DataLoader\n"
   ]
  },
  {
   "cell_type": "code",
   "execution_count": 27,
   "id": "213b7e64-4f55-4dfb-84ab-ac10c720f17c",
   "metadata": {},
   "outputs": [],
   "source": [
    "base_dir = \"/projects/dsci410/baseballprediction/pitch_classifier\"\n"
   ]
  },
  {
   "cell_type": "code",
   "execution_count": 28,
   "id": "0782b787-00cf-4c9a-b1fe-49704a91a324",
   "metadata": {},
   "outputs": [
    {
     "name": "stdout",
     "output_type": "stream",
     "text": [
      "Warning: Looks like you're using an outdated `kagglehub` version, please consider updating (latest version: 0.3.10)\n",
      "Path to dataset files: /home/nikhils/.cache/kagglehub/datasets/pschale/mlb-pitch-data-20152018/versions/2\n"
     ]
    }
   ],
   "source": [
    "import kagglehub\n",
    "\n",
    "# Download latest version\n",
    "path = kagglehub.dataset_download(\"pschale/mlb-pitch-data-20152018\")\n",
    "\n",
    "print(\"Path to dataset files:\", path)"
   ]
  },
  {
   "cell_type": "code",
   "execution_count": 29,
   "id": "4816da08-bf58-4a65-b4c0-1e1daa6ed252",
   "metadata": {},
   "outputs": [],
   "source": [
    "pitches = pd.read_csv('pitchdata/pitches.csv')\n",
    "atbats = pd.read_csv('pitchdata/atbats.csv')\n",
    "names = pd.read_csv('pitchdata/player_names.csv')"
   ]
  },
  {
   "cell_type": "code",
   "execution_count": 30,
   "id": "c00d39d7-c7eb-4c8f-bbba-0b5842967673",
   "metadata": {},
   "outputs": [],
   "source": [
    "filtered_atbats = atbats[(atbats['batter_id'] == 453286) | (atbats['pitcher_id'] == 453286)]"
   ]
  },
  {
   "cell_type": "code",
   "execution_count": 31,
   "id": "3d33d1fe-3efd-40ff-9ce6-0ccc4f692f2c",
   "metadata": {},
   "outputs": [
    {
     "data": {
      "text/html": [
       "<div>\n",
       "<style scoped>\n",
       "    .dataframe tbody tr th:only-of-type {\n",
       "        vertical-align: middle;\n",
       "    }\n",
       "\n",
       "    .dataframe tbody tr th {\n",
       "        vertical-align: top;\n",
       "    }\n",
       "\n",
       "    .dataframe thead th {\n",
       "        text-align: right;\n",
       "    }\n",
       "</style>\n",
       "<table border=\"1\" class=\"dataframe\">\n",
       "  <thead>\n",
       "    <tr style=\"text-align: right;\">\n",
       "      <th></th>\n",
       "      <th>ab_id</th>\n",
       "      <th>batter_id</th>\n",
       "      <th>event</th>\n",
       "      <th>g_id</th>\n",
       "      <th>inning</th>\n",
       "      <th>o</th>\n",
       "      <th>p_score</th>\n",
       "      <th>p_throws</th>\n",
       "      <th>pitcher_id</th>\n",
       "      <th>stand</th>\n",
       "      <th>top</th>\n",
       "    </tr>\n",
       "  </thead>\n",
       "  <tbody>\n",
       "    <tr>\n",
       "      <th>631</th>\n",
       "      <td>2015000632</td>\n",
       "      <td>434158</td>\n",
       "      <td>Walk</td>\n",
       "      <td>201500010</td>\n",
       "      <td>1</td>\n",
       "      <td>0</td>\n",
       "      <td>0</td>\n",
       "      <td>R</td>\n",
       "      <td>453286</td>\n",
       "      <td>L</td>\n",
       "      <td>True</td>\n",
       "    </tr>\n",
       "    <tr>\n",
       "      <th>632</th>\n",
       "      <td>2015000633</td>\n",
       "      <td>431151</td>\n",
       "      <td>Pop Out</td>\n",
       "      <td>201500010</td>\n",
       "      <td>1</td>\n",
       "      <td>1</td>\n",
       "      <td>0</td>\n",
       "      <td>R</td>\n",
       "      <td>453286</td>\n",
       "      <td>R</td>\n",
       "      <td>True</td>\n",
       "    </tr>\n",
       "    <tr>\n",
       "      <th>633</th>\n",
       "      <td>2015000634</td>\n",
       "      <td>446263</td>\n",
       "      <td>Strikeout</td>\n",
       "      <td>201500010</td>\n",
       "      <td>1</td>\n",
       "      <td>2</td>\n",
       "      <td>0</td>\n",
       "      <td>R</td>\n",
       "      <td>453286</td>\n",
       "      <td>L</td>\n",
       "      <td>True</td>\n",
       "    </tr>\n",
       "    <tr>\n",
       "      <th>634</th>\n",
       "      <td>2015000635</td>\n",
       "      <td>150212</td>\n",
       "      <td>Groundout</td>\n",
       "      <td>201500010</td>\n",
       "      <td>1</td>\n",
       "      <td>3</td>\n",
       "      <td>0</td>\n",
       "      <td>R</td>\n",
       "      <td>453286</td>\n",
       "      <td>R</td>\n",
       "      <td>True</td>\n",
       "    </tr>\n",
       "    <tr>\n",
       "      <th>640</th>\n",
       "      <td>2015000641</td>\n",
       "      <td>502517</td>\n",
       "      <td>Flyout</td>\n",
       "      <td>201500010</td>\n",
       "      <td>2</td>\n",
       "      <td>1</td>\n",
       "      <td>0</td>\n",
       "      <td>R</td>\n",
       "      <td>453286</td>\n",
       "      <td>L</td>\n",
       "      <td>True</td>\n",
       "    </tr>\n",
       "  </tbody>\n",
       "</table>\n",
       "</div>"
      ],
      "text/plain": [
       "          ab_id  batter_id      event       g_id  inning  o  p_score p_throws  \\\n",
       "631  2015000632     434158       Walk  201500010       1  0        0        R   \n",
       "632  2015000633     431151    Pop Out  201500010       1  1        0        R   \n",
       "633  2015000634     446263  Strikeout  201500010       1  2        0        R   \n",
       "634  2015000635     150212  Groundout  201500010       1  3        0        R   \n",
       "640  2015000641     502517     Flyout  201500010       2  1        0        R   \n",
       "\n",
       "     pitcher_id stand   top  \n",
       "631      453286     L  True  \n",
       "632      453286     R  True  \n",
       "633      453286     L  True  \n",
       "634      453286     R  True  \n",
       "640      453286     L  True  "
      ]
     },
     "execution_count": 31,
     "metadata": {},
     "output_type": "execute_result"
    }
   ],
   "source": [
    "filtered_atbats.head()"
   ]
  },
  {
   "cell_type": "code",
   "execution_count": 32,
   "id": "48aeb18f-6cc3-4679-826a-c6e4fa7026f2",
   "metadata": {},
   "outputs": [
    {
     "data": {
      "text/html": [
       "<div>\n",
       "<style scoped>\n",
       "    .dataframe tbody tr th:only-of-type {\n",
       "        vertical-align: middle;\n",
       "    }\n",
       "\n",
       "    .dataframe tbody tr th {\n",
       "        vertical-align: top;\n",
       "    }\n",
       "\n",
       "    .dataframe thead th {\n",
       "        text-align: right;\n",
       "    }\n",
       "</style>\n",
       "<table border=\"1\" class=\"dataframe\">\n",
       "  <thead>\n",
       "    <tr style=\"text-align: right;\">\n",
       "      <th></th>\n",
       "      <th>pitcher_id</th>\n",
       "      <th>ab_id</th>\n",
       "      <th>spin_rate</th>\n",
       "      <th>type_confidence</th>\n",
       "      <th>pitch_type</th>\n",
       "      <th>pitch_num</th>\n",
       "    </tr>\n",
       "  </thead>\n",
       "  <tbody>\n",
       "    <tr>\n",
       "      <th>0</th>\n",
       "      <td>453286</td>\n",
       "      <td>2015000632</td>\n",
       "      <td>2704.451</td>\n",
       "      <td>2.0</td>\n",
       "      <td>FF</td>\n",
       "      <td>1.0</td>\n",
       "    </tr>\n",
       "    <tr>\n",
       "      <th>1</th>\n",
       "      <td>453286</td>\n",
       "      <td>2015000632</td>\n",
       "      <td>2536.460</td>\n",
       "      <td>2.0</td>\n",
       "      <td>FF</td>\n",
       "      <td>2.0</td>\n",
       "    </tr>\n",
       "    <tr>\n",
       "      <th>2</th>\n",
       "      <td>453286</td>\n",
       "      <td>2015000632</td>\n",
       "      <td>2546.016</td>\n",
       "      <td>2.0</td>\n",
       "      <td>FF</td>\n",
       "      <td>3.0</td>\n",
       "    </tr>\n",
       "    <tr>\n",
       "      <th>3</th>\n",
       "      <td>453286</td>\n",
       "      <td>2015000632</td>\n",
       "      <td>1628.200</td>\n",
       "      <td>2.0</td>\n",
       "      <td>CH</td>\n",
       "      <td>4.0</td>\n",
       "    </tr>\n",
       "    <tr>\n",
       "      <th>4</th>\n",
       "      <td>453286</td>\n",
       "      <td>2015000632</td>\n",
       "      <td>2040.141</td>\n",
       "      <td>2.0</td>\n",
       "      <td>FF</td>\n",
       "      <td>5.0</td>\n",
       "    </tr>\n",
       "  </tbody>\n",
       "</table>\n",
       "</div>"
      ],
      "text/plain": [
       "   pitcher_id       ab_id  spin_rate  type_confidence pitch_type  pitch_num\n",
       "0      453286  2015000632   2704.451              2.0         FF        1.0\n",
       "1      453286  2015000632   2536.460              2.0         FF        2.0\n",
       "2      453286  2015000632   2546.016              2.0         FF        3.0\n",
       "3      453286  2015000632   1628.200              2.0         CH        4.0\n",
       "4      453286  2015000632   2040.141              2.0         FF        5.0"
      ]
     },
     "execution_count": 32,
     "metadata": {},
     "output_type": "execute_result"
    }
   ],
   "source": [
    "filtered_atbats1 = filtered_atbats[['pitcher_id', 'ab_id']]\n",
    "filtered_pitches = pitches[['ab_id', 'spin_rate', 'type_confidence', 'pitch_type', 'pitch_num']]\n",
    "\n",
    "validating = pd.merge(filtered_atbats1, filtered_pitches, on='ab_id', how='inner')\n",
    "validating.head()"
   ]
  },
  {
   "cell_type": "code",
   "execution_count": 33,
   "id": "5efe4bea-7a52-47d6-b600-43b8093e9e57",
   "metadata": {},
   "outputs": [],
   "source": [
    "from torch.utils.data import Dataset\n",
    "import torchvision.io as io\n",
    "from torchvision import transforms\n",
    "\n",
    "class CustomVideoDataset(Dataset):\n",
    "    def __init__(self, video_dir, transform=None):\n",
    "        \"\"\"\n",
    "        Args:\n",
    "            video_dir (string): Directory containing the video files.\n",
    "            transform (callable, optional): Optional transform to be applied on the video tensor.\n",
    "        \"\"\"\n",
    "        self.video_dir = video_dir\n",
    "        self.video_files = [\n",
    "            os.path.join(video_dir, f) for f in os.listdir(video_dir)\n",
    "            if f.lower().endswith('.avi')\n",
    "        ]\n",
    "        print(f\"Found {len(self.video_files)} video files in {video_dir}\")\n",
    "        self.transform = transform\n",
    "\n",
    "    def __len__(self):\n",
    "        return len(self.video_files)\n",
    "\n",
    "    def __getitem__(self, idx):\n",
    "        video_path = self.video_files[idx]\n",
    "        video_tensor, audio_tensor, metadata = io.read_video(video_path, pts_unit='sec')\n",
    "        \n",
    "        # might change\n",
    "        label = 0\n",
    "        \n",
    "        if self.transform:\n",
    "            video_tensor = self.transform(video_tensor)\n",
    "        \n",
    "        return video_tensor, label\n"
   ]
  },
  {
   "cell_type": "code",
   "execution_count": 34,
   "id": "529c2325-ee14-4533-8746-b8b6f5c7bd72",
   "metadata": {},
   "outputs": [],
   "source": [
    "video_transform = transforms.Compose([\n",
    "    lambda x: x \n",
    "])\n",
    "\n",
    "#collate function to pad videos in a batch to have the same number of frames by adding zeros so every video length matches the max \n",
    "def custom_collate_fn(batch):\n",
    "    \"\"\"\n",
    "    Batch is a list of tuples: (video_tensor, label).\n",
    "    video_tensor shape: (num_frames, H, W, C) where num_frames may vary.\n",
    "    \"\"\"\n",
    "    videos, labels = zip(*batch)\n",
    "    \n",
    "    \n",
    "    max_frames = max(video.shape[0] for video in videos)\n",
    "    \n",
    "    padded_videos = []\n",
    "    for video in videos:\n",
    "        num_frames, H, W, C = video.shape\n",
    "        pad_frames = max_frames - num_frames\n",
    "        if pad_frames > 0:\n",
    "           \n",
    "            padding = torch.zeros((pad_frames, H, W, C), dtype=video.dtype)\n",
    "            video = torch.cat([video, padding], dim=0)\n",
    "        padded_videos.append(video)\n",
    "    \n",
    "    # Stack padded videos into a single tensor of shape (batch_size, max_frames, H, W, C)\n",
    "    padded_videos = torch.stack(padded_videos)\n",
    "    labels = torch.tensor(labels)\n",
    "    \n",
    "    return padded_videos, labels"
   ]
  },
  {
   "cell_type": "code",
   "execution_count": 35,
   "id": "48f34773-1683-4f6c-8ca2-f9750c76c3f5",
   "metadata": {},
   "outputs": [
    {
     "name": "stdout",
     "output_type": "stream",
     "text": [
      "Found 10 video files in cvids/\n"
     ]
    }
   ],
   "source": [
    "video_dir = 'cvids/'\n",
    "\n",
    "dataset = CustomVideoDataset(video_dir=video_dir, transform=video_transform)\n",
    "\n",
    "total_samples = len(dataset)\n",
    "train_size = int(0.8 * total_samples)\n",
    "val_size = int(0.1 * total_samples)\n",
    "test_size = total_samples - train_size - val_size\n",
    "train_dataset, val_dataset, test_dataset = random_split(dataset, [train_size, val_size, test_size])\n"
   ]
  },
  {
   "cell_type": "code",
   "execution_count": 36,
   "id": "4d82cc35-93a5-4eac-96e4-495331019335",
   "metadata": {},
   "outputs": [
    {
     "name": "stdout",
     "output_type": "stream",
     "text": [
      "Batch videos shape: torch.Size([4, 41, 1080, 1920, 3])\n"
     ]
    }
   ],
   "source": [
    "batch_size = 4\n",
    "train_loader = DataLoader(train_dataset, batch_size=batch_size, shuffle=True, collate_fn=custom_collate_fn)\n",
    "val_loader = DataLoader(val_dataset, batch_size=batch_size, shuffle=False, collate_fn=custom_collate_fn)\n",
    "test_loader = DataLoader(test_dataset, batch_size=batch_size, shuffle=False, collate_fn=custom_collate_fn)\n",
    "\n",
    "for batch_videos, batch_labels in train_loader:\n",
    "    print(f\"Batch videos shape: {batch_videos.shape}\")  # (batch_size, max_frames, H, W, C)\n",
    "    break"
   ]
  },
  {
   "cell_type": "code",
   "execution_count": 38,
   "id": "d6c59552-ce90-4a40-9a60-b23020adfbd3",
   "metadata": {},
   "outputs": [
    {
     "name": "stdout",
     "output_type": "stream",
     "text": [
      "Batch videos shape: torch.Size([4, 41, 1080, 1920, 3])\n",
      "Batch labels shape: torch.Size([4])\n"
     ]
    }
   ],
   "source": [
    "from torch.utils.data import DataLoader\n",
    "\n",
    "batch_size = 4 \n",
    "\n",
    "train_loader = DataLoader(train_dataset, batch_size=batch_size, shuffle=True, collate_fn=custom_collate_fn)\n",
    "val_loader = DataLoader(val_dataset, batch_size=batch_size, shuffle=False, collate_fn=custom_collate_fn)\n",
    "test_loader = DataLoader(test_dataset, batch_size=batch_size, shuffle=False, collate_fn=custom_collate_fn)\n",
    "\n",
    "\n",
    "\n",
    "for batch_videos, batch_labels in train_loader:\n",
    "    print(f\"Batch videos shape: {batch_videos.shape}\")\n",
    "    break\n"
   ]
  },
  {
   "cell_type": "code",
   "execution_count": null,
   "id": "00ed6ad0-9270-4fbd-9d9f-bac3e37ce923",
   "metadata": {},
   "outputs": [],
   "source": []
  }
 ],
 "metadata": {
  "kernelspec": {
   "display_name": "Python 3 (ipykernel)",
   "language": "python",
   "name": "python3"
  },
  "language_info": {
   "codemirror_mode": {
    "name": "ipython",
    "version": 3
   },
   "file_extension": ".py",
   "mimetype": "text/x-python",
   "name": "python",
   "nbconvert_exporter": "python",
   "pygments_lexer": "ipython3",
   "version": "3.8.16"
  }
 },
 "nbformat": 4,
 "nbformat_minor": 5
}
